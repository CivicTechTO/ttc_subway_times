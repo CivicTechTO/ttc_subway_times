{
 "cells": [
  {
   "cell_type": "code",
   "execution_count": 2,
   "metadata": {
    "collapsed": true
   },
   "outputs": [],
   "source": [
    "from bs4 import BeautifulSoup\n",
    "import numpy as np\n",
    "import pandas as pd\n",
    "import requests\n",
    "import json\n",
    "import re"
   ]
  },
  {
   "cell_type": "code",
   "execution_count": 3,
   "metadata": {
    "collapsed": false
   },
   "outputs": [],
   "source": [
    "#page = BeautifulSoup(html_doc, 'html.parser')\n",
    "#page.find_all('alert-header')\n",
    "\n",
    "\n",
    "def get_API_response():\n",
    "        url = \"https://ttc.ca/Service_Advisories/all_service_alerts.jsp\"\n",
    "        r = requests.get(url, timeout = 10)\n",
    "        return r\n",
    "html_doc = get_API_response()"
   ]
  },
  {
   "cell_type": "code",
   "execution_count": 4,
   "metadata": {
    "collapsed": false
   },
   "outputs": [
    {
     "data": {
      "text/plain": [
       "'<!DOCTYPE html PUBLIC \"-//W3C//DTD XHTML 1.0 Transitional//EN\" \"http://www.w3.org/TR/xhtml1/DTD/xhtml1-transitional.dtd\">\\r\\n\\r\\n\\r\\n<html lang=\"en\" xml:lang=\"en\" xmlns=\"http://www.w3.org/1999/xhtml\"> \\r\\n<head>\\r\\n\\r\\n<meta http-equiv=\"Content-Type\" content=\"text/html; charset=utf-8\"/>\\r\\n<meta name=\"robots\" content=\"noodp\"> \\r\\n\\r\\n<meta http-equiv=\"Content-Language\" content=\"en-ca\"/>\\r\\n<meta property=\"og:image\" content=\"http://ttc.ca/images/fixedImages/ttc-main-logo.gif\" />\\r\\n\\r\\n<!--MetaRedirect=false-->\\r\\n\\r\\n\\r\\n<meta name=\"description\" content=\"The Toronto Transit Commission is the quick, convenient and safe way to get around Toronto. The subway system is linked with buses and streetcars to get you around Toronto on one fare, provided it\\'s a one-way trip with no stopovers. You can travel on the TTC every day.\"/>\\r\\n\\r\\n<meta name=\"keywords\" content=\"Toronto, transit, bus, streetcar, subway, RT, Metropass\"/>\\r\\n\\r\\n\\r\\n\\r\\n<meta name=\"google-translate-customization\" content=\"508e5ec0f119adfe-1735ad33e20ad652-g5651fc41286cc1ca-a\"></meta>\\r\\n\\r\\n<link rel=\"stylesheet\" type=\"text/css\" media=\"screen\" href=\"/css/main.css?v=1\"/>\\r\\n\\r\\n<link rel=\"stylesheet\" type=\"text/css\" media=\"screen\" href=\"../css/content.css\"/>\\r\\n\\r\\n<link rel=\"stylesheet\" type=\"text/css\" media=\"print\" href=\"/css/print.css\"/>\\r\\n<link  rel=\"stylesheet\" id=\"cssSize\" type=\"text/css\" media=\"screen\" href=\"/css/widths.css\" />\\r\\n \\r\\n        <link rel=\"stylesheet\" href=\"/css/lightbox/lightbox.css\" media=\"screen\"/>\\r\\n\\t\\r\\n\\r\\n\\r\\n\\r\\n<link rel=\"icon\" href=\"/favicon.ico\" type=\"image/x-icon\" /> \\r\\n<script type=\"text/javascript\" src=\"/js/widths.js\"></script>\\r\\n<script type=\"text/javascript\" src=\"/js/homestretchMaster.js\"></script>\\r\\n\\r\\n \\r\\n\\t\\t<script src=\"/js/lightbox/modernizr.custom.js\"></script>\\r\\n\\t\\t<script src=\"/js/lightbox/jquery-1.10.2.min.js\"></script>\\r\\n\\t\\t<script src=\"/js/lightbox/lightbox-2.6.min.js\"></script>\\r\\n\\t\\r\\n\\r\\n\\r\\n\\r\\n\\r\\n\\r\\n<script type=\\'text/javascript\\'>\\r\\n\\r\\n$imageroot=\\'/images/fixedImages/\\';\\r\\n\\r\\n</script>\\r\\n\\r\\n\\r\\n\\r\\n<script type=\"text/javascript\" src=\"https://apis.google.com/js/plusone.js\">\\r\\n    </script>\\r\\n\\r\\n<script>\\r\\n!function(d,s,id){var js,fjs=d.getElementsByTagName(s)[0],p=/^http:/.test(d.location)?\\'http\\':\\'https\\';if(!d.getElementById(id)){js=d.createElement(s);js.id=id;js.src=p+\\'://platform.twitter.com/widgets.js\\';fjs.parentNode.insertBefore(js,fjs);}}(document, \\'script\\', \\'twitter-wjs\\');\\r\\n</script>\\r\\n\\r\\n<script>\\r\\n$(window).load(function(){\\r\\n(function(d, s, id) {\\r\\n  var js, fjs = d.getElementsByTagName(s)[0];\\r\\n  if (d.getElementById(id)) return;\\r\\n  js = d.createElement(s); js.id = id;\\r\\n  js.src = \"//connect.facebook.net/en_US/all.js#xfbml=1\";\\r\\n  fjs.parentNode.insertBefore(js, fjs);\\r\\n}(document, \\'script\\', \\'facebook-jssdk\\'));\\r\\n});\\r\\n</script>\\r\\n\\r\\n\\r\\n\\r\\n\\r\\n\\r\\n\\r\\n\\r\\n\\r\\n\\r\\n\\r\\n\\r\\n<script type=\"text/javascript\" src=\"/js/general.js\"></script>\\r\\n<script type=\"text/javascript\">\\r\\nwindow.onload=function(){\\r\\nvar s = document.title;\\r\\nif(s.indexOf(\"TTC\") != 0)\\r\\n{\\r\\n   var ttc = \"TTC \";\\r\\n   document.title = ttc.concat(s);\\r\\n}\\r\\n};\\r\\n</script>\\r\\n<title>All Service Alerts</title>\\r\\n\\r\\n<style type=\"text/css\">\\r\\nbody{\\r\\noverflow-x: hidden !important;\\r\\n\\r\\n}\\r\\n\\r\\n</style>\\r\\n</head>\\r\\n\\r\\n<body>\\r\\n\\r\\n\\r\\n\\r\\n\\r\\n<div id=\"ttc-main-container\">\\r\\n\\t<div id=\"ttc-main-header\">\\r\\n\\r\\n\\r\\n<div class=\"ttc-jump\">\\r\\n \\r\\n<a href=\"#top\" class=\"ttc-jump-link\">Skip to main content of this page.</a>\\r\\n\\t  \\r\\n</div>\\r\\n\\r\\n\\t\\t<div id=\"ttc-main-logo\" title=\"Toronto Transit Commission\"><a href=\"/index.jsp\"><img src=\"/images/ttc-main-logo.gif\" alt=\"TTC Logo\" /><span class=\"access\"><br />Toronto Transit Commission</span></a></div>\\r\\n\\t\\t<ul id=\"utility-nav\">\\r\\n \\r\\n\\t\\t\\t<li><span class=\"first\"><a href=\"/index.jsp\">Home</a></span></li>\\r\\n\\t\\t\\t<li><a href=\"/Trip_planner/index.jsp\">Trip Planner</a></li>\\r\\n\\t\\t\\t<li><a href=\"/Customer_Service/index.jsp\">Customer Service</a></li>\\r\\n\\t\\t\\t<li><a href=\"/News/index.jsp\">News</a></li>\\r\\n\\t\\t\\t<li><a href=\"/WheelTrans/index.jsp\">Wheel-Trans</a></li>\\r\\n\\t\\t\\t<li><a href=\"/TTC_Accessibility/index.jsp\">Accessibility</a></li>\\r\\n\\t  \\r\\n\\r\\n\\t\\t</ul>\\r\\n\\t\\t\\r\\n\\t\\t<ul id=\"ttc-main-nav\">\\r\\n\\t\\t\\r\\n \\r\\n\\t\\t\\t<li><a href=\"/Routes/index.jsp\" class=\"first\">Schedules &amp; Maps</a></li>\\r\\n\\t\\t\\t<li><a href=\"/Fares_and_passes/index.jsp\">Fares &amp; Passes</a></li>\\r\\n\\t\\t\\t<li><a href=\"/Riding_the_TTC/index.jsp\">Riding the TTC</a></li>\\r\\n\\t\\t\\t<li><span class=\"access\">The current section is </span><a class=\"active\" href=\"/Service_Advisories/index.jsp\">Service Advisories</a></li>\\r\\n\\t  \\r\\n\\t\\t</ul>\\r\\n\\t</div>\\r\\n<a name=\"top\"></a>\\r\\n\\t<div id=\"ttc-grid-content\">\\r\\n\\r\\n\\r\\n\\r\\n\\r\\n\\r\\n\\r\\n\\r\\n\\r\\n\\t\\t<div id=\"ttc-main-content\" class=\"content\">\\r\\n\\r\\n<!-- no section matches the select key: \\'\\'-->\\r\\n\\r\\n<!-- no section matches the select key: \\'\\'-->\\r\\n\\r\\n\\r\\n\\t\\t\\t<a name=\"skip\"></a>\\r\\n\\t\\t\\t\\r\\n\\t\\t\\t<h1>All Service Alerts</h1>\\r\\n\\t\\t\\t\\r\\n\\r\\n\\r\\n\\t\\t\\t<h2>Unplanned Service Disruptions</h2>\\r\\n\\r\\n\\r\\n\\t\\t\\t<div class=\"main-content\">\\t\\r\\n\\r\\n\\r\\n\\r\\n\\t\\r\\n<script src=\"service_alerts_redirect.js\" type=\"text/javascript\">\\n</script>\\n\\n<div class=\"advisory-wrap\">\\n<h3 class=\"alert-header\">1 Service Alert</h3>\\n<div class=\"alert-content\"><p class=\"veh-replace\">Elevator Alert: Queen\\'s Quay Station, streetcar platform to street level, out of service until June 16, 2017, due to construction.</p><p class=\"alert-updated\">Last updated May 15, 1:53 PM</p></div></div>\\n\\n<p>Please note that in the event of a subway service delay, shuttle buses will be deployed to assist passengers. However, shuttle buses cannot carry the same passenger volume as a subway.</p>\\r\\n\\r\\n\\r\\n\\r\\n\\r\\n\\r\\n\\r\\n \\r\\n        <script src=\"/js/lightbox/lightboxTest.js\"></script>\\r\\n\\t\\r\\n\\r\\n\\t\\t\\t\\t<div class=\"clear\"></div>\\r\\n\\r\\n            \\r\\n \\t\\t        </div>\\r\\n\\r\\n\\r\\n\\r\\n\\r\\n<div style=\"margin-top:50px;float:left\">\\r\\n\\t\\t\\t<script language=\"javascript\">\\r\\n\\t\\t\\t\\tfunction emailCurrentPage(){\\r\\n\\t\\t\\t\\t\\twindow.location.href=\"mailto:?subject=Check%20Out%20\"+escape(document.title)+\"&body=Hello,%20%0A%0A%0AVisit:%20\"+escape(window.location.href)+\"%0A%0A%0AFind%20out%20more%20about%20the%20TTC%20at%20http://www.ttc.ca%0A\";\\r\\n\\t\\t\\t\\t}\\r\\n\\t\\t\\t</script>\\r\\n\\t\\t    <ul >\\r\\n\\t\\t\\t<li style=\"float:left;list-style:none;padding-right:25px;padding-top:5px\"><div class=\"fb-share-button\" data-href=\"all_service_alerts.jsp\"></li>\\r\\n\\t\\t\\t<li style=\"float:left;list-style:none;\"><a href=\"https://twitter.com/share\" class=\"twitter-share-button\">Tweet</a></li>\\r\\n\\t\\t\\t<li style=\"float:left;list-style:none;\"><g:plus action=\"share\" annotation=\"bubble\"></g:plus></li>\\r\\n\\t\\t\\t<li style=\"float:left;list-style:none;padding-left:25px;\"><A HREF=\"javascript:emailCurrentPage()\">Email a friend</A></li>\\r\\n\\t\\t\\t</ul>\\r\\n\\t\\t\\t</div>\\r\\n\\r\\n\\r\\n\\r\\n\\r\\n\\r\\n\\r\\n\\r\\n\\t\\t\\t<div id=\"back-to-top\"><a href=\"#top\" class=\"ttc-back-to-top\">Back to top of page</a></div>\\r\\n\\r\\n\\t\\t\\t<div class=\"clear\"></div>\\r\\n\\r\\n<!-- no section matches the select key: \\'\\'-->\\r\\n\\r\\n<!-- no section matches the select key: \\'\\'-->\\r\\n\\r\\n \\t       </div>\\r\\n\\r\\n\\r\\n<!-- no section matches the select key: \\'0\\'-->\\r\\n\\r\\n\\r\\n\\t\\t<div id=\"ttc-ccol-content\">\\r\\n                       \\r\\n\\r\\n\\r\\n\\t\\t\\t<div class=\"ttc-service-alert\">\\r\\n\\t\\t\\t\\t<div class=\"ttc-service-alert\"><h6><img src=\"/images/fixedImages/ttc-alert-icon-img.gif\" alt=\"Attention\" />Service Alert: </h6><div class=\"alert-content\"><p>Elevator Alert: Queen\\'s Quay Station, streetcar platform to street level, out of service until June 16, 2017, due to construction.</p><p class=\"alert-updated\">Last updated May 15, 1:53 PM</p></div></div>\\r\\n\\t\\t\\t</div>\\r\\n\\r\\n\\r\\n\\r\\n\\r\\n\\r\\n\\r\\n\\r\\n\\r\\n\\r\\n\\r\\n\\r\\n\\r\\n\\r\\n\\r\\n\\r\\n\\r\\n\\r\\n\\r\\n\\r\\n\\r\\n\\r\\n\\r\\n\\r\\n\\r\\n\\r\\n\\r\\n\\r\\n\\r\\n\\r\\n\\r\\n\\r\\n\\r\\n\\r\\n\\r\\n\\r\\n\\r\\n\\r\\n\\r\\n\\r\\n\\r\\n\\r\\n\\r\\n\\r\\n\\r\\n\\r\\n\\r\\n\\r\\n\\r\\n\\r\\n\\r\\n\\r\\n\\r\\n\\r\\n\\r\\n\\t\\t\\t<div class=\"extra-info\">\\r\\n\\r\\n\\r\\n<img alt=\"Social Media icons\"  border=\"0\" height=\"103\" src=\"/images/Features/social_media_rs_feat.jpg\" width=\"139\"/>\\r\\n<h6>Staying in touch with the TTC</h6>\\r\\n\\t\\t\\t\\t<p>Follow us on Twitter, Like us on Facebook and Find us on Linkedin.<br />\\r\\n<a href=\"/Social_Media/index.jsp\" target=\"_self\" title=\"\">Social Media</a>\\r\\n\\t\\t\\t\\t</p>\\r\\n\\r\\n\\r\\n\\r\\n<img alt=\"Graphic map of Toronto city grid\"  border=\"0\" height=\"103\" src=\"/images/Features/ConnTO_feature.jpg\" width=\"139\"/>\\r\\n<h6>Connecting Toronto</h6>\\r\\n\\t\\t\\t\\t<p>Your weekly TTC news digest. Find out the latest news and info here.<br />\\r\\n<a href=\"/News/Connecting%20Toronto/index.jsp\" target=\"_self\" title=\"\">Connecting Toronto</a>\\r\\n\\t\\t\\t\\t</p>\\r\\n\\r\\n\\r\\n\\t\\t\\t</div>\\r\\n\\r\\n\\r\\n\\r\\n\\t\\t</div>\\r\\n\\t\\t<div id=\"ttc-local-nav\">\\r\\n<!-- navigation in ttc-local-nav -->\\r\\n\\r\\n\\r\\n\\r\\n\\r\\n\\r\\n\\r\\n\\r\\n<!-- reach Leftnav beginning -->\\r\\n<!-- found Leftnav here -->\\r\\n \\r\\n\\r\\n<!-- reach Leftnav end -->\\r\\n\\r\\n\\r\\n\\r\\n\\r\\n\\r\\n\\r\\n\\r\\n\\r\\n\\r\\n\\r\\n\\r\\n\\r\\n\\r\\n\\r\\n\\r\\n\\r\\n\\r\\n\\r\\n\\r\\n<script type=\"text/javascript\">\\r\\n$(document).ready(function()\\r\\n{\\r\\n$(\".sub-level1 a\").each(function(){\\r\\n\\tif($(this).attr(\"href\").indexOf(\"null\") >= 0)\\r\\n\\t{\\r\\n\\t\\t$(this).parent().remove();\\r\\n\\t}\\r\\n});\\r\\n\\r\\n$(\".sub-level2 a\").each(function(){\\r\\n\\tif($(this).attr(\"href\").indexOf(\"null\") >= 0)\\r\\n\\t{\\r\\n\\t\\t$(this).parent().remove();\\r\\n\\t}\\r\\n});\\r\\n\\r\\n\\r\\n});\\r\\n</script>\\r\\n\\r\\n\\r\\n\\r\\n\\r\\n\\r\\n\\r\\n \\r\\n\\r\\n\\r\\n\\r\\n \\r\\n \\r\\n\\r\\n \\r\\n\\r\\n\\r\\n\\r\\n \\r\\n \\r\\n\\r\\n \\r\\n\\r\\n\\r\\n\\r\\n \\r\\n \\r\\n\\r\\n\\r\\n\\r\\n \\r\\n\\r\\n\\r\\n\\r\\n \\r\\n \\r\\n\\r\\n \\r\\n\\r\\n\\r\\n\\r\\n \\r\\n \\r\\n\\r\\n\\r\\n\\r\\n\\r\\n\\r\\n\\r\\n\\r\\n\\r\\n\\r\\n\\r\\n\\r\\n\\r\\n\\r\\n\\r\\n\\r\\n\\r\\n\\r\\n\\r\\n\\r\\n\\r\\n\\r\\n\\r\\n\\r\\n\\r\\n\\r\\n\\r\\n\\r\\n\\r\\n\\r\\n\\r\\n\\r\\n\\r\\n\\r\\n<h4><a href=\"/Service_Advisories/index.jsp\">Service advisories</a></h4><ul>\\n<li class=\"sub-level0 subfirst\"><a href=\"/Service_Advisories/Elevators_and_escalators/index.jsp\">Elevators and escalators</a></li>\\n<li class=\"sub-level0\"><a href=\"/Service_Advisories/Subway_closures/index.jsp\">Scheduled Subway Closures</a></li>\\n<li class=\"sub-level0\"><a href=\"/Service_Advisories/Route_diversions/index.jsp\">Route Diversions</a></li>\\n<li class=\"sub-level0\"><a href=\"/Service_Advisories/Service_changes/index.jsp\">Service Changes</a></li>\\n<li class=\"sub-level0\"><a href=\"/Service_Advisories/Construction/index.jsp\">Construction Notices</a></li>\\n<li class=\"sub-level0\"><a href=\"/Service_Advisories/Accessible_service/index.jsp\">Accessible streetcar service updates</a></li>\\n<li class=\"active sub-level0\"><span class=\"current on\"><a href=\"/Service_Advisories/all_service_alerts.jsp\">All Service Alerts</a></span></li>\\n<li class=\"sub-level0\"><a href=\"/Service_Advisories/My_ttc_e_services/index.jsp\">My TTC e-Services</a></li>\\n</ul>\\r\\n\\r\\n\\r\\n\\r\\n\\r\\n\\r\\n\\r\\n\\t\\t</div>\\r\\n\\r\\n\\r\\n\\r\\n\\r\\n\\r\\n\\r\\n\\r\\n\\r\\n\\r\\n\\r\\n\\r\\n\\t\\t\\t\\t<div class=\"clear\"></div>\\r\\n\\t</div>\\r\\n\\r\\n\\r\\n\\t<!-- SEARCH -->\\r\\n\\t<div id=\"ttc-main-search\">\\r\\n\\t  <form method=\"post\" action=\"/Search/results.jsp\">\\r\\n\\t    <label for=\"nav-search\">Search TTC.ca:</label>\\r\\n\\t    <input type=\"hidden\" name=\"site\" value=\"default_collection\"/>\\r\\n\\t    <input type=\"hidden\" name=\"reffer\" value=\"true\" />\\r\\n\\t    <input type=\"hidden\" name=\"client\" value=\"results.jsp\"/>\\r\\n\\t    <input type=\"hidden\" name=\"proxystylesheet\" value=\"ttc_stylesheet-iframe\"/>\\r\\n\\t    <input type=\"hidden\" name=\"output\" value=\"xml_no_dtd\"/>\\r\\n\\t    <input class=\"text\" name=\"q\" id=\"nav-search\" type=\"text\" />\\r\\n\\t    <input class=\"text\" name=\"contrast\" type=\"hidden\" value=\"\" />\\r\\n\\t    <input value=\"Search\" class=\"btn\" name=\"sa\" id=\"search-input\" title=\"Search TTC\" type=\"submit\"/>\\r\\n\\t  </form>\\r\\n\\t  <!--disable Advanced Search\\r\\n\\t  <a href=\"/Search/advancedsearch.jsp\" id=\"ttc-advan-search\">Advanced Search</a>-->\\r\\n\\t</div>\\r\\n</div>\\r\\n\\r\\n\\r\\n\\r\\n<!--////////////////FACEBOOK LIKE BUTTON////////////////-->\\r\\n<style media=\"screen\" type=\"text/css\">\\r\\n.fb-like.fb_edge_widget_with_comment.fb_iframe_widget span iframe {\\r\\n    bottom:0!important;\\r\\n}\\r\\n</style>\\r\\n<div id=\"fb-root\"></div>\\r\\n<script>(function(d, s, id) {\\r\\n  var js, fjs = d.getElementsByTagName(s)[0];\\r\\n  if (d.getElementById(id)) return;\\r\\n  js = d.createElement(s); js.id = id;\\r\\n  js.src = \"//connect.facebook.net/en_US/all.js#xfbml=1\";\\r\\n  fjs.parentNode.insertBefore(js, fjs);\\r\\n}(document, \\'script\\', \\'facebook-jssdk\\'));</script>\\r\\n<!--////////////////////////////////////////////////////-->\\r\\n\\r\\n<div id=\"ttc-footer\">\\r\\n  <div class=\"ttc-footer-content border\">\\r\\n    <h6 class=\"access\">Corporate and site information</h6>\\r\\n    \\r\\n      <ul id=\"ttc-contact-left\">\\r\\n        <li class=\"first\"><a href=\"/About_the_TTC/index.jsp\">About the TTC</a></li>\\r\\n        <li><a href=\"/Jobs/index.jsp\">Jobs</a></li>\\r\\n        <li><a href=\"/TTC_Business/index.jsp\">Business with the TTC</a></li>\\r\\n        <li><a href=\"/Public_Meetings/index.jsp\">Public Meetings</a></li>\\r\\n      </ul>\\r\\n      <ul id=\"ttc-contact\">\\r\\n        <li class=\"first\"><a href=\"/TTC_Surveys/index.jsp\">Customer Surveys</a></li>\\r\\n        <li><a href=\"/Contact_Us/index.jsp\">Contact Us</a></li>\\r\\n        <li><a href=\"/Sitemap/index.jsp\">Site Map</a></li>\\r\\n      </ul>\\r\\n\\t  <ul style=\"clear:both; list-style:none; float:left;\">\\r\\n\\r\\n      <li style=\"float:left; padding: 1px 3px 0 0; margin-top:-2px; margin-right:0px;\">\\r\\n      <span class=\"access\"> Use Google Translate to read our website in other languages </span>\\r\\n      </li>\\r\\n      <li style=\"float:left; padding: 1px 3px 0 0; margin-top:-2px; margin-right:0px;\">\\r\\n      <div id=\"google_translate_element\"></div><script type=\"text/javascript\">\\r\\nfunction googleTranslateElementInit() {\\r\\n  new google.translate.TranslateElement({pageLanguage: \\'en\\', layout: google.translate.TranslateElement.InlineLayout.SIMPLE}, \\'google_translate_element\\');\\r\\n}\\r\\nwindow.setTimeout((function(){\\r\\n$(\\'#google_translate_element .goog-te-gadget-icon\\').remove();\\r\\n$(\\'#google_translate_element .goog-te-gadget-simple\\').css(\\'border\\',\\'none\\');\\r\\n$(\\'#google_translate_element .goog-te-menu-value span\\').eq(0).html(\\'Translate page\\');\\r\\n$(\\'#google_translate_element .goog-te-menu-value span\\').eq(0).css(\\'color\\', \\'black\\');\\r\\n//$(\\'#google_translate_element .goog-te-gadget-simple\\').css(\\'height\\',\\'15px\\');\\r\\n}), 1500);\\r\\n</script><script type=\"text/javascript\" src=\"https://translate.google.com/translate_a/element.js?cb=googleTranslateElementInit\"></script>\\r\\n         \\r\\n      </li>\\r\\n      </ul>\\r\\n      <ul style=\"list-style:none; float:right;\"> \\r\\n        \\r\\n    <!--//////////////FACEBOOK LIKE BUTTON OPTION #1////////////-->\\r\\n\\t\\t<li style=\"float:left; padding: 1px 3px 0 0; margin-top:-2px; margin-right:8px;\"><div class=\"fb-like\" data-href=\"https://www.facebook.com/TorontoTransitCommission\" data-send=\"false\" data-layout=\"button_count\" data-width=\"100\" data-show-faces=\"false\" data-font=\"trebuchet ms\" data-colorscheme=\"dark\"></div></li>\\r\\n    <!--////////////////////////////////////////////////////////-->\\r\\n    \\r\\n    <!--//////////////FACEBOOK LIKE BUTTON OPTION #2////////////\\r\\n\\t\\t<li style=\"float:left; padding: 1px 3px 0 0; margin-top:-43px; margin-right:8px;\"><div class=\"fb-like\" data-href=\"https://www.facebook.com/TorontoTransitCommission\" data-send=\"false\" data-layout=\"box_count\" data-width=\"100\" data-show-faces=\"false\" data-font=\"trebuchet ms\" data-colorscheme=\"dark\"></div></li>\\r\\n    ////////////////////////////////////////////////////////-->\\r\\n    \\r\\n        <li  style=\"float:left; padding:1px 3px 0 0;\"><a href=\"/Social_Media/index.jsp\">\\r\\n        <img style=\"margin:0 3px -2px 0;\" src=\"/images/fixedImages/youtube_footer_icon.gif\" alt=\"youtube\" />\\r\\n        <img style=\"margin:0 3px -2px 0;\" src=\"/images/fixedImages/linkdin_footer_icon.gif\" alt=\"Linkedin\" /> \\r\\n        <img style=\"margin:0 0 -2px 0;\" src=\"/images/fixedImages/twitter_footer_icon.gif\" alt=\"twitter\" /> \\r\\n        <img style=\"margin:0 3px -2px;\" src=\"/images/fixedImages/facebook_footer_icon.gif\" alt=\"facebook\" /> Social Media</a></li>\\r\\n        \\r\\n        <li  style=\"float:left; padding:1px 8px 0;\"><a href=\"http://m.ttc.ca\"><img style=\"margin:0 3px -2px 0;\" src=\"/images/fixedImages/mobile_icon.gif\" alt=\"mobile icon\" /> Mobile Site</a></li>\\r\\n        <li style=\"float:left; padding:1px 8px 0;\"><a href=\"/RSS/index.jsp\"><img style=\"margin:0 3px -2px 0;\" src=\"/images/fixedImages/rss_icon_small.gif\" alt=\"\" /> RSS Feeds</a></li>\\r\\n      </ul>\\r\\n    \\r\\n  </div>\\r\\n  <div class=\"ttc-footer-content\">\\r\\n    \\r\\n      <ul id=\"ttc-related-links\">\\r\\n        <li class=\"first\"><a href=\"/Privacy/index.jsp\">Privacy Policy</a></li>\\r\\n        <li><a href=\"/Terms_and_conditions_of_use/index.jsp\">Terms of Use</a></li>\\r\\n        <li><a href=\"/Riding_the_TTC/TTC_Bylaws/index.jsp\">TTC By-law No. 1</a></li>\\r\\n        <li><a href=\"/Related_Links/index.jsp\">Related Links</a></li>\\r\\n      </ul>\\r\\n    \\r\\n    <p id=\"ttc-copyright\">Toronto Transit Commission, Copyright 1997-2017</p>\\r\\n  </div>\\r\\n</div>\\r\\n<div id=\"ttc-footer-stretch\"></div>\\r\\n\\r\\n\\r\\n<script>\\r\\n  (function(i,s,o,g,r,a,m){i[\\'GoogleAnalyticsObject\\']=r;i[r]=i[r]||function(){\\r\\n  (i[r].q=i[r].q||[]).push(arguments)},i[r].l=1*new Date();a=s.createElement(o),\\r\\n  m=s.getElementsByTagName(o)[0];a.async=1;a.src=g;m.parentNode.insertBefore(a,m)\\r\\n  })(window,document,\\'script\\',\\'//www.google-analytics.com/analytics.js\\',\\'ga\\');\\r\\n\\r\\n  ga(\\'create\\', \\'UA-4610307-1\\', \\'auto\\');\\r\\n  ga(\\'send\\', \\'pageview\\');\\r\\n\\r\\n</script>\\r\\n\\r\\n</body>\\r\\n</html>\\r\\n'"
      ]
     },
     "execution_count": 4,
     "metadata": {},
     "output_type": "execute_result"
    }
   ],
   "source": [
    "html_doc.text"
   ]
  },
  {
   "cell_type": "code",
   "execution_count": 5,
   "metadata": {
    "collapsed": true
   },
   "outputs": [],
   "source": [
    "pattern = '<div class=\"alert-content\"><p class=\"veh-replace\">([^\\n]+)</p>'\n",
    "alerts = re.findall(pattern, html_doc.text)"
   ]
  },
  {
   "cell_type": "code",
   "execution_count": 6,
   "metadata": {
    "collapsed": false
   },
   "outputs": [
    {
     "data": {
      "text/plain": [
       "['Elevator Alert: Queen\\'s Quay Station, streetcar platform to street level, out of service until June 16, 2017, due to construction.</p><p class=\"alert-updated\">Last updated May 15, 1:53 PM']"
      ]
     },
     "execution_count": 6,
     "metadata": {},
     "output_type": "execute_result"
    }
   ],
   "source": [
    "alerts"
   ]
  },
  {
   "cell_type": "code",
   "execution_count": 7,
   "metadata": {
    "collapsed": false
   },
   "outputs": [],
   "source": [
    "storage = pd.DataFrame(columns=[\"time\",\"type\",\"text\"])"
   ]
  },
  {
   "cell_type": "code",
   "execution_count": 10,
   "metadata": {
    "collapsed": false
   },
   "outputs": [
    {
     "name": "stdout",
     "output_type": "stream",
     "text": [
      "Elevator Alert: Queen's Quay Station, streetcar platform to street level, out of service until June 16, 2017, due to construction.\n",
      "Last updated May 15, 1:53 PM\n"
     ]
    },
    {
     "data": {
      "text/plain": [
       "'all_clear = tweets[tweets[\"text\"].str.contains(\"ALL CLEAR\")]\\nno_subway_service = tweets[tweets[\"text\"].str.contains(\"No subway service\")]\\nno_train_service = tweets[tweets[\"text\"].str.contains(\"No train service\")]\\nelevator_alert = tweets[tweets[\"text\"].str.contains(\"Elevator Alert\")]\\ntravelling_from = tweets[tweets[\"text\"].str.contains(\"Travelling from\")]\\ntravelling_to = tweets[tweets[\"text\"].str.contains(\"Travelling to\")]\\ntrains_are_holding_on = tweets[tweets[\"text\"].str.contains(\"Trains are holding on\")]'"
      ]
     },
     "execution_count": 10,
     "metadata": {},
     "output_type": "execute_result"
    }
   ],
   "source": [
    "for alert in alerts:\n",
    "    split = alert.split('</p><p class=\"alert-updated\">')\n",
    "    issue = split[0]\n",
    "    time = split[1]\n",
    "    print(issue)\n",
    "    print(time)\n",
    "    \n",
    "    if \"REMINDER\" in issue:\n",
    "        type = re\n",
    "\"\"\"all_clear = tweets[tweets[\"text\"].str.contains(\"ALL CLEAR\")]\n",
    "no_subway_service = tweets[tweets[\"text\"].str.contains(\"No subway service\")]\n",
    "no_train_service = tweets[tweets[\"text\"].str.contains(\"No train service\")]\n",
    "elevator_alert = tweets[tweets[\"text\"].str.contains(\"Elevator Alert\")]\n",
    "travelling_from = tweets[tweets[\"text\"].str.contains(\"Travelling from\")]\n",
    "travelling_to = tweets[tweets[\"text\"].str.contains(\"Travelling to\")]\n",
    "trains_are_holding_on = tweets[tweets[\"text\"].str.contains(\"Trains are holding on\")]\"\"\""
   ]
  },
  {
   "cell_type": "code",
   "execution_count": 41,
   "metadata": {
    "collapsed": false
   },
   "outputs": [
    {
     "data": {
      "text/html": [
       "<div>\n",
       "<table border=\"1\" class=\"dataframe\">\n",
       "  <thead>\n",
       "    <tr style=\"text-align: right;\">\n",
       "      <th></th>\n",
       "      <th>time</th>\n",
       "      <th>type</th>\n",
       "      <th>text</th>\n",
       "    </tr>\n",
       "  </thead>\n",
       "  <tbody>\n",
       "  </tbody>\n",
       "</table>\n",
       "</div>"
      ],
      "text/plain": [
       "Empty DataFrame\n",
       "Columns: [time, type, text]\n",
       "Index: []"
      ]
     },
     "execution_count": 41,
     "metadata": {},
     "output_type": "execute_result"
    }
   ],
   "source": [
    "storage"
   ]
  }
 ],
 "metadata": {
  "kernelspec": {
   "display_name": "Python 3",
   "language": "python",
   "name": "python3"
  },
  "language_info": {
   "codemirror_mode": {
    "name": "ipython",
    "version": 3
   },
   "file_extension": ".py",
   "mimetype": "text/x-python",
   "name": "python",
   "nbconvert_exporter": "python",
   "pygments_lexer": "ipython3",
   "version": "3.5.2"
  }
 },
 "nbformat": 4,
 "nbformat_minor": 1
}
