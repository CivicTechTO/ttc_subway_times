{
 "cells": [
  {
   "cell_type": "code",
   "execution_count": null,
   "metadata": {
    "collapsed": false,
    "scrolled": false
   },
   "outputs": [],
   "source": [
    "import psycopg2\n",
    "import configparser\n",
    "import pandas as pd\n",
    "\n",
    "CONFIG = configparser.ConfigParser(interpolation=None)\n",
    "CONFIG.read('../db.cfg')\n",
    "dbset = CONFIG['DBSETTINGS']\n",
    "conn = psycopg2.connect(**dbset)\n",
    "\n",
    "df = pd.read_sql(\"select a.requestid, a.timint, (a.timint - COALESCE(b.timint, 0)) as timediff from ntas_data as a inner join ntas_data as b on a.id = b.id+1 and a.station_char = b.station_char and a.train_message in ('Arriving', 'Delayed') and b.train_message = 'AtStation' limit 100000;\", conn)\n",
    "df.head()"
   ]
  },
  {
   "cell_type": "markdown",
   "metadata": {},
   "source": [
    "So we have a truncated dataset. The dataset is limited to 10k entries, as the number of possible entries is ~35MM. Regardless, this will serve as a nice proof of concept, and we'll plot a histogram of it."
   ]
  },
  {
   "cell_type": "code",
   "execution_count": null,
   "metadata": {
    "collapsed": false,
    "scrolled": true
   },
   "outputs": [],
   "source": [
    "import matplotlib.pyplot as plt\n",
    "df['timediff'].plot.hist(bins=100)\n",
    "plt.show()"
   ]
  },
  {
   "cell_type": "markdown",
   "metadata": {
    "collapsed": true
   },
   "source": [
    "Now we will want to normalize the dataframe to the time difference. For more accuracy, we should grab data from request times, and figure out the time difference there, but we want to use this as a proof of concept first. We will subtract 1 to just normalize, because that's more or less the time difference. First, let's look at the dataset."
   ]
  },
  {
   "cell_type": "code",
   "execution_count": null,
   "metadata": {
    "collapsed": false
   },
   "outputs": [],
   "source": [
    "df.describe()"
   ]
  },
  {
   "cell_type": "markdown",
   "metadata": {},
   "source": [
    "We're only going to look at data within the 20 minute mark."
   ]
  },
  {
   "cell_type": "code",
   "execution_count": null,
   "metadata": {
    "collapsed": false
   },
   "outputs": [],
   "source": [
    "df = df.loc[df['timint'] < 20]\n",
    "df.describe()"
   ]
  },
  {
   "cell_type": "code",
   "execution_count": null,
   "metadata": {
    "collapsed": false
   },
   "outputs": [],
   "source": [
    "normalized_timediff = df['timediff'].apply(lambda x: x - 1)\n",
    "normalized_timediff.plot.hist(bins=100)\n",
    "plt.show()"
   ]
  },
  {
   "cell_type": "markdown",
   "metadata": {},
   "source": [
    "So the distribution roughly shows that a significant portion of the time the estimation does end up being longer than a minute. Let's see the proportion of times that the estimate is less than the time advertised."
   ]
  },
  {
   "cell_type": "code",
   "execution_count": null,
   "metadata": {
    "collapsed": false
   },
   "outputs": [],
   "source": [
    "beat_expectations = normalized_timediff[normalized_timediff <= 0]\n",
    "disappointments = normalized_timediff[normalized_timediff > 0]\n",
    "len(beat_expectations) / len(disappointments) * 100"
   ]
  },
  {
   "cell_type": "markdown",
   "metadata": {},
   "source": [
    "So, we beat estimates roughly 5.6% of the time. That...sucks."
   ]
  },
  {
   "cell_type": "markdown",
   "metadata": {},
   "source": [
    "TODO: What should we investigate?\n",
    "- specific stations: what if the ends are skewing our results a little bit\n",
    "- look at delayed status: what threshold do they start notifications?\n",
    "- should adjust query to make sure it's the same train + direction that we're tracking...\n",
    "- "
   ]
  },
  {
   "cell_type": "code",
   "execution_count": null,
   "metadata": {
    "collapsed": true
   },
   "outputs": [],
   "source": []
  }
 ],
 "metadata": {
  "anaconda-cloud": {},
  "kernelspec": {
   "display_name": "Python [conda root]",
   "language": "python",
   "name": "conda-root-py"
  },
  "language_info": {
   "codemirror_mode": {
    "name": "ipython",
    "version": 3
   },
   "file_extension": ".py",
   "mimetype": "text/x-python",
   "name": "python",
   "nbconvert_exporter": "python",
   "pygments_lexer": "ipython3",
   "version": "3.5.2"
  }
 },
 "nbformat": 4,
 "nbformat_minor": 1
}
